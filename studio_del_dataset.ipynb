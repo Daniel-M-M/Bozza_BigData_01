{
 "cells": [
  {
   "cell_type": "code",
   "execution_count": null,
   "id": "fc07c9b5",
   "metadata": {},
   "outputs": [],
   "source": [
    "#Prima cosa che abbiamo notato è che la 3 collona al posto di 1 abbiamo 0 e alposto di 2 abbiamo 0.2, 0.4, 0.8. Poi la distanza è in cm o in metro?\n",
    "#(livelli di altezza da 0 a 1, nel dataset originale), tolto 352 gia tolto 14, quindi il nostro è pulito.\n"
   ]
  },
  {
   "cell_type": "code",
   "execution_count": 44,
   "id": "771c66e0",
   "metadata": {},
   "outputs": [],
   "source": [
    "import pandas as pd\n",
    "df = pd.read_csv(\"LandMines.csv\")"
   ]
  },
  {
   "cell_type": "code",
   "execution_count": 45,
   "id": "ffbe6566",
   "metadata": {},
   "outputs": [
    {
     "data": {
      "text/plain": [
       "V    float64\n",
       "H    float64\n",
       "S    float64\n",
       "M      int64\n",
       "dtype: object"
      ]
     },
     "execution_count": 45,
     "metadata": {},
     "output_type": "execute_result"
    }
   ],
   "source": [
    "df.dtypes"
   ]
  },
  {
   "cell_type": "code",
   "execution_count": 46,
   "id": "eb3618c5",
   "metadata": {},
   "outputs": [
    {
     "data": {
      "text/html": [
       "<div>\n",
       "<style scoped>\n",
       "    .dataframe tbody tr th:only-of-type {\n",
       "        vertical-align: middle;\n",
       "    }\n",
       "\n",
       "    .dataframe tbody tr th {\n",
       "        vertical-align: top;\n",
       "    }\n",
       "\n",
       "    .dataframe thead th {\n",
       "        text-align: right;\n",
       "    }\n",
       "</style>\n",
       "<table border=\"1\" class=\"dataframe\">\n",
       "  <thead>\n",
       "    <tr style=\"text-align: right;\">\n",
       "      <th></th>\n",
       "      <th>V</th>\n",
       "      <th>H</th>\n",
       "      <th>S</th>\n",
       "      <th>M</th>\n",
       "    </tr>\n",
       "  </thead>\n",
       "  <tbody>\n",
       "    <tr>\n",
       "      <th>0</th>\n",
       "      <td>0.338157</td>\n",
       "      <td>0.000000</td>\n",
       "      <td>0.0</td>\n",
       "      <td>1</td>\n",
       "    </tr>\n",
       "    <tr>\n",
       "      <th>1</th>\n",
       "      <td>0.320241</td>\n",
       "      <td>0.181818</td>\n",
       "      <td>0.0</td>\n",
       "      <td>1</td>\n",
       "    </tr>\n",
       "    <tr>\n",
       "      <th>2</th>\n",
       "      <td>0.287009</td>\n",
       "      <td>0.272727</td>\n",
       "      <td>0.0</td>\n",
       "      <td>1</td>\n",
       "    </tr>\n",
       "    <tr>\n",
       "      <th>3</th>\n",
       "      <td>0.256284</td>\n",
       "      <td>0.454545</td>\n",
       "      <td>0.0</td>\n",
       "      <td>1</td>\n",
       "    </tr>\n",
       "    <tr>\n",
       "      <th>4</th>\n",
       "      <td>0.262840</td>\n",
       "      <td>0.545455</td>\n",
       "      <td>0.0</td>\n",
       "      <td>1</td>\n",
       "    </tr>\n",
       "  </tbody>\n",
       "</table>\n",
       "</div>"
      ],
      "text/plain": [
       "          V         H    S  M\n",
       "0  0.338157  0.000000  0.0  1\n",
       "1  0.320241  0.181818  0.0  1\n",
       "2  0.287009  0.272727  0.0  1\n",
       "3  0.256284  0.454545  0.0  1\n",
       "4  0.262840  0.545455  0.0  1"
      ]
     },
     "execution_count": 46,
     "metadata": {},
     "output_type": "execute_result"
    }
   ],
   "source": [
    "df.head()"
   ]
  },
  {
   "cell_type": "code",
   "execution_count": 47,
   "id": "10d729f0",
   "metadata": {},
   "outputs": [
    {
     "data": {
      "text/plain": [
       "Index(['V', 'H', 'S', 'M'], dtype='object')"
      ]
     },
     "execution_count": 47,
     "metadata": {},
     "output_type": "execute_result"
    }
   ],
   "source": [
    "df.columns"
   ]
  },
  {
   "cell_type": "code",
   "execution_count": 48,
   "id": "6964cdc5",
   "metadata": {},
   "outputs": [
    {
     "data": {
      "text/html": [
       "<div>\n",
       "<style scoped>\n",
       "    .dataframe tbody tr th:only-of-type {\n",
       "        vertical-align: middle;\n",
       "    }\n",
       "\n",
       "    .dataframe tbody tr th {\n",
       "        vertical-align: top;\n",
       "    }\n",
       "\n",
       "    .dataframe thead th {\n",
       "        text-align: right;\n",
       "    }\n",
       "</style>\n",
       "<table border=\"1\" class=\"dataframe\">\n",
       "  <thead>\n",
       "    <tr style=\"text-align: right;\">\n",
       "      <th></th>\n",
       "      <th>V</th>\n",
       "      <th>H</th>\n",
       "      <th>S</th>\n",
       "      <th>M</th>\n",
       "    </tr>\n",
       "  </thead>\n",
       "  <tbody>\n",
       "    <tr>\n",
       "      <th>count</th>\n",
       "      <td>338.000000</td>\n",
       "      <td>338.000000</td>\n",
       "      <td>338.000000</td>\n",
       "      <td>338.000000</td>\n",
       "    </tr>\n",
       "    <tr>\n",
       "      <th>mean</th>\n",
       "      <td>0.430634</td>\n",
       "      <td>0.508876</td>\n",
       "      <td>0.503550</td>\n",
       "      <td>2.952663</td>\n",
       "    </tr>\n",
       "    <tr>\n",
       "      <th>std</th>\n",
       "      <td>0.195819</td>\n",
       "      <td>0.306043</td>\n",
       "      <td>0.344244</td>\n",
       "      <td>1.419703</td>\n",
       "    </tr>\n",
       "    <tr>\n",
       "      <th>min</th>\n",
       "      <td>0.197734</td>\n",
       "      <td>0.000000</td>\n",
       "      <td>0.000000</td>\n",
       "      <td>1.000000</td>\n",
       "    </tr>\n",
       "    <tr>\n",
       "      <th>25%</th>\n",
       "      <td>0.309737</td>\n",
       "      <td>0.272727</td>\n",
       "      <td>0.200000</td>\n",
       "      <td>2.000000</td>\n",
       "    </tr>\n",
       "    <tr>\n",
       "      <th>50%</th>\n",
       "      <td>0.359516</td>\n",
       "      <td>0.545455</td>\n",
       "      <td>0.600000</td>\n",
       "      <td>3.000000</td>\n",
       "    </tr>\n",
       "    <tr>\n",
       "      <th>75%</th>\n",
       "      <td>0.482628</td>\n",
       "      <td>0.727273</td>\n",
       "      <td>0.800000</td>\n",
       "      <td>4.000000</td>\n",
       "    </tr>\n",
       "    <tr>\n",
       "      <th>max</th>\n",
       "      <td>0.999999</td>\n",
       "      <td>1.000000</td>\n",
       "      <td>1.000000</td>\n",
       "      <td>5.000000</td>\n",
       "    </tr>\n",
       "  </tbody>\n",
       "</table>\n",
       "</div>"
      ],
      "text/plain": [
       "                V           H           S           M\n",
       "count  338.000000  338.000000  338.000000  338.000000\n",
       "mean     0.430634    0.508876    0.503550    2.952663\n",
       "std      0.195819    0.306043    0.344244    1.419703\n",
       "min      0.197734    0.000000    0.000000    1.000000\n",
       "25%      0.309737    0.272727    0.200000    2.000000\n",
       "50%      0.359516    0.545455    0.600000    3.000000\n",
       "75%      0.482628    0.727273    0.800000    4.000000\n",
       "max      0.999999    1.000000    1.000000    5.000000"
      ]
     },
     "execution_count": 48,
     "metadata": {},
     "output_type": "execute_result"
    }
   ],
   "source": [
    "df.describe()"
   ]
  },
  {
   "cell_type": "code",
   "execution_count": 49,
   "id": "717cd717",
   "metadata": {},
   "outputs": [
    {
     "data": {
      "text/plain": [
       "V    0\n",
       "H    0\n",
       "S    0\n",
       "M    0\n",
       "dtype: int64"
      ]
     },
     "execution_count": 49,
     "metadata": {},
     "output_type": "execute_result"
    }
   ],
   "source": [
    "df.isna().sum()"
   ]
  },
  {
   "cell_type": "code",
   "execution_count": 50,
   "id": "baa6fa46",
   "metadata": {},
   "outputs": [
    {
     "data": {
      "text/plain": [
       "[0.338157, 0.320241, 0.287009, 0.256284, 0.262840, ..., 0.446284, 0.391178, 0.378157, 0.319939, 0.519637]\n",
       "Length: 196\n",
       "Categories (196, float64): [0.197734, 0.207945, 0.209818, 0.213097, ..., 0.957703, 0.975830, 0.993956, 0.999999]"
      ]
     },
     "execution_count": 50,
     "metadata": {},
     "output_type": "execute_result"
    }
   ],
   "source": [
    "pd.Categorical(df['V']).unique()"
   ]
  },
  {
   "cell_type": "code",
   "execution_count": 51,
   "id": "d5a97a8b",
   "metadata": {},
   "outputs": [
    {
     "data": {
      "text/plain": [
       "[0.000000, 0.181818, 0.272727, 0.454545, 0.545455, ..., 0.909091, 0.181818, 0.454545, 0.727273, 1.000000]\n",
       "Length: 338\n",
       "Categories (12, float64): [0.000000, 0.090909, 0.181818, 0.272727, ..., 0.727273, 0.818182, 0.909091, 1.000000]"
      ]
     },
     "execution_count": 51,
     "metadata": {},
     "output_type": "execute_result"
    }
   ],
   "source": [
    "#Forse è una standardizzazione da 0 a 1 al posto di 0 a 20 come descrito nel text. \n",
    "#Forse i dati sono stati normalizzati a 0 e 1 usando il min e max (formula: x_normalized = (x - min) / (max - min)).\n",
    "pd.Categorical(df['H'])"
   ]
  },
  {
   "cell_type": "code",
   "execution_count": 52,
   "id": "67135592",
   "metadata": {},
   "outputs": [
    {
     "data": {
      "text/plain": [
       "[0.0, 0.0, 0.0, 0.0, 0.0, ..., 0.4, 1.0, 1.0, 1.0, 1.0]\n",
       "Length: 338\n",
       "Categories (6, float64): [0.0, 0.2, 0.4, 0.6, 0.8, 1.0]"
      ]
     },
     "execution_count": 52,
     "metadata": {},
     "output_type": "execute_result"
    }
   ],
   "source": [
    "pd.Categorical(df['S'])"
   ]
  },
  {
   "cell_type": "code",
   "execution_count": 53,
   "id": "f45c7129",
   "metadata": {},
   "outputs": [
    {
     "data": {
      "text/plain": [
       "[1, 1, 1, 1, 1, ..., 5, 5, 5, 5, 5]\n",
       "Length: 338\n",
       "Categories (5, int64): [1, 2, 3, 4, 5]"
      ]
     },
     "execution_count": 53,
     "metadata": {},
     "output_type": "execute_result"
    }
   ],
   "source": [
    "pd.Categorical(df['M'])"
   ]
  },
  {
   "cell_type": "code",
   "execution_count": 54,
   "id": "5e534351",
   "metadata": {},
   "outputs": [
    {
     "data": {
      "text/plain": [
       "array([0.33815676, 0.32024133, 0.28700875, 0.25628362, 0.2628396 ,\n",
       "       0.24096646, 0.25441049, 0.23492418, 0.35347392, 0.33534705,\n",
       "       0.33002989, 0.30513561, 0.2356493 , 0.31534705, 0.28398761,\n",
       "       0.30326248, 0.27492417, 0.26002989, 0.25981846, 0.26586074,\n",
       "       0.32305104, 0.31419905, 0.30211447, 0.32326248, 0.27419905,\n",
       "       0.34743163, 0.34169159, 0.29607218, 0.31039876, 0.31743163,\n",
       "       0.32930477, 0.30815676, 0.3383682 , 0.29501498, 0.27199384,\n",
       "       0.27190303, 0.29220528, 0.28534705, 0.99999873, 0.90634326,\n",
       "       0.65860946, 0.61027115, 0.45317167, 0.44244654, 0.97582958,\n",
       "       0.81570895, 0.65558832, 0.62839802, 0.50453112, 0.47431968,\n",
       "       0.71903234, 0.62235573, 0.53172141, 0.43806595, 0.39879108,\n",
       "       0.36253735, 0.91238555, 0.95770271, 0.75830721, 0.73413806,\n",
       "       0.49525624, 0.46827739, 0.46734082, 0.85498382, 0.54984828,\n",
       "       0.89123754, 0.80966666, 0.71601119, 0.50755226, 0.44410824,\n",
       "       0.38930477, 0.36534705, 0.36857964, 0.31722019, 0.31909333,\n",
       "       0.6132923 , 0.42598137, 0.38462193, 0.35649506, 0.35068536,\n",
       "       0.34441049, 0.38972765, 0.25377617, 0.57401743, 0.47734082,\n",
       "       0.48338311, 0.40785451, 0.3867065 , 0.36555849, 0.32628362,\n",
       "       0.66465175, 0.5105734 , 0.39576993, 0.35274879, 0.35296023,\n",
       "       0.56193285, 0.586102  , 0.4894254 , 0.35045277, 0.30649506,\n",
       "       0.51359455, 0.50150997, 0.44108709, 0.40483337, 0.37764307,\n",
       "       0.33066421, 0.30951621, 0.28125225, 0.27386698, 0.25646524,\n",
       "       0.22752244, 0.20794532, 0.19773388, 0.24220528, 0.24033214,\n",
       "       0.25586074, 0.23398761, 0.21309665, 0.59214429, 0.41691794,\n",
       "       0.42296023, 0.33232591, 0.58308086, 0.3111779 , 0.27794532,\n",
       "       0.22960701, 0.29002989, 0.55891171, 0.53474256, 0.44380599,\n",
       "       0.3950448 , 0.41918414, 0.4228396 , 0.3783682 , 0.37160078,\n",
       "       0.34879108, 0.35368536, 0.29534705, 0.47129853, 0.38368536,\n",
       "       0.35087565, 0.34138934, 0.49546768, 0.41087565, 0.26888189,\n",
       "       0.25024133, 0.36586074, 0.32607218, 0.29377617, 0.24471273,\n",
       "       0.29658587, 0.27471273, 0.28096646, 0.31700875, 0.25909333,\n",
       "       0.2883682 , 0.78851865, 0.43921396, 0.72507463, 0.45015053,\n",
       "       0.48036197, 0.71299005, 0.85196267, 0.99395644, 0.77945522,\n",
       "       0.37462193, 0.31555849, 0.30368536, 0.49244654, 0.3747065 ,\n",
       "       0.35607218, 0.43202366, 0.38066421, 0.75226492, 0.52265798,\n",
       "       0.35951621, 0.42347392, 0.33368536, 0.2717824 , 0.24199384,\n",
       "       0.22700875, 0.26377617, 0.22356473, 0.20981845, 0.4622351 ,\n",
       "       0.4138968 , 0.54078484, 0.506102  , 0.40181222, 0.36900252,\n",
       "       0.3628396 , 0.44628362, 0.3911779 , 0.37815676, 0.31993909,\n",
       "       0.51963684])"
      ]
     },
     "execution_count": 54,
     "metadata": {},
     "output_type": "execute_result"
    }
   ],
   "source": [
    "df['V'].unique()"
   ]
  },
  {
   "cell_type": "code",
   "execution_count": 55,
   "id": "ade44aca",
   "metadata": {},
   "outputs": [
    {
     "data": {
      "text/html": [
       "<div>\n",
       "<style scoped>\n",
       "    .dataframe tbody tr th:only-of-type {\n",
       "        vertical-align: middle;\n",
       "    }\n",
       "\n",
       "    .dataframe tbody tr th {\n",
       "        vertical-align: top;\n",
       "    }\n",
       "\n",
       "    .dataframe thead th {\n",
       "        text-align: right;\n",
       "    }\n",
       "</style>\n",
       "<table border=\"1\" class=\"dataframe\">\n",
       "  <thead>\n",
       "    <tr style=\"text-align: right;\">\n",
       "      <th></th>\n",
       "      <th>V</th>\n",
       "      <th>H</th>\n",
       "      <th>S</th>\n",
       "    </tr>\n",
       "    <tr>\n",
       "      <th>M</th>\n",
       "      <th></th>\n",
       "      <th></th>\n",
       "      <th></th>\n",
       "    </tr>\n",
       "  </thead>\n",
       "  <tbody>\n",
       "    <tr>\n",
       "      <th>1</th>\n",
       "      <td>0.338157</td>\n",
       "      <td>0.000000</td>\n",
       "      <td>0.0</td>\n",
       "    </tr>\n",
       "    <tr>\n",
       "      <th>1</th>\n",
       "      <td>0.320241</td>\n",
       "      <td>0.181818</td>\n",
       "      <td>0.0</td>\n",
       "    </tr>\n",
       "    <tr>\n",
       "      <th>1</th>\n",
       "      <td>0.287009</td>\n",
       "      <td>0.272727</td>\n",
       "      <td>0.0</td>\n",
       "    </tr>\n",
       "    <tr>\n",
       "      <th>1</th>\n",
       "      <td>0.256284</td>\n",
       "      <td>0.454545</td>\n",
       "      <td>0.0</td>\n",
       "    </tr>\n",
       "    <tr>\n",
       "      <th>1</th>\n",
       "      <td>0.262840</td>\n",
       "      <td>0.545455</td>\n",
       "      <td>0.0</td>\n",
       "    </tr>\n",
       "    <tr>\n",
       "      <th>...</th>\n",
       "      <td>...</td>\n",
       "      <td>...</td>\n",
       "      <td>...</td>\n",
       "    </tr>\n",
       "    <tr>\n",
       "      <th>5</th>\n",
       "      <td>0.323262</td>\n",
       "      <td>0.909091</td>\n",
       "      <td>0.4</td>\n",
       "    </tr>\n",
       "    <tr>\n",
       "      <th>5</th>\n",
       "      <td>0.444108</td>\n",
       "      <td>0.181818</td>\n",
       "      <td>1.0</td>\n",
       "    </tr>\n",
       "    <tr>\n",
       "      <th>5</th>\n",
       "      <td>0.353474</td>\n",
       "      <td>0.454545</td>\n",
       "      <td>1.0</td>\n",
       "    </tr>\n",
       "    <tr>\n",
       "      <th>5</th>\n",
       "      <td>0.362537</td>\n",
       "      <td>0.727273</td>\n",
       "      <td>1.0</td>\n",
       "    </tr>\n",
       "    <tr>\n",
       "      <th>5</th>\n",
       "      <td>0.314199</td>\n",
       "      <td>1.000000</td>\n",
       "      <td>1.0</td>\n",
       "    </tr>\n",
       "  </tbody>\n",
       "</table>\n",
       "<p>338 rows × 3 columns</p>\n",
       "</div>"
      ],
      "text/plain": [
       "           V         H    S\n",
       "M                          \n",
       "1   0.338157  0.000000  0.0\n",
       "1   0.320241  0.181818  0.0\n",
       "1   0.287009  0.272727  0.0\n",
       "1   0.256284  0.454545  0.0\n",
       "1   0.262840  0.545455  0.0\n",
       "..       ...       ...  ...\n",
       "5   0.323262  0.909091  0.4\n",
       "5   0.444108  0.181818  1.0\n",
       "5   0.353474  0.454545  1.0\n",
       "5   0.362537  0.727273  1.0\n",
       "5   0.314199  1.000000  1.0\n",
       "\n",
       "[338 rows x 3 columns]"
      ]
     },
     "execution_count": 55,
     "metadata": {},
     "output_type": "execute_result"
    }
   ],
   "source": [
    "df_index = df.set_index(\"M\")\n",
    "df_index"
   ]
  },
  {
   "cell_type": "code",
   "execution_count": 66,
   "id": "70afc604",
   "metadata": {},
   "outputs": [
    {
     "data": {
      "text/plain": [
       "338"
      ]
     },
     "execution_count": 66,
     "metadata": {},
     "output_type": "execute_result"
    }
   ],
   "source": []
  },
  {
   "cell_type": "code",
   "execution_count": null,
   "id": "b7d43c82",
   "metadata": {},
   "outputs": [],
   "source": []
  },
  {
   "cell_type": "code",
   "execution_count": null,
   "id": "29013070",
   "metadata": {},
   "outputs": [],
   "source": []
  }
 ],
 "metadata": {
  "kernelspec": {
   "display_name": "Python 3 (ipykernel)",
   "language": "python",
   "name": "python3"
  },
  "language_info": {
   "codemirror_mode": {
    "name": "ipython",
    "version": 3
   },
   "file_extension": ".py",
   "mimetype": "text/x-python",
   "name": "python",
   "nbconvert_exporter": "python",
   "pygments_lexer": "ipython3",
   "version": "3.11.5"
  }
 },
 "nbformat": 4,
 "nbformat_minor": 5
}
